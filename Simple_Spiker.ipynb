{
 "metadata": {
  "language_info": {
   "codemirror_mode": {
    "name": "ipython",
    "version": 3
   },
   "file_extension": ".py",
   "mimetype": "text/x-python",
   "name": "python",
   "nbconvert_exporter": "python",
   "pygments_lexer": "ipython3",
   "version": "3.6.7-final"
  },
  "orig_nbformat": 2,
  "kernelspec": {
   "name": "python3",
   "display_name": "Python 3"
  }
 },
 "nbformat": 4,
 "nbformat_minor": 2,
 "cells": [
  {
   "cell_type": "code",
   "execution_count": 2,
   "metadata": {},
   "outputs": [
    {
     "output_type": "display_data",
     "data": {
      "text/plain": "<IPython.core.display.HTML object>",
      "text/html": "<style>.container { width:100% !important; }</style>"
     },
     "metadata": {}
    },
    {
     "output_type": "stream",
     "name": "stdout",
     "text": [
      "Compilation Succeeded.\n"
     ]
    }
   ],
   "source": [
    "from neuron import h\n",
    "import os\n",
    "import matplotlib.pyplot as plt\n",
    "\n",
    "from IPython.core.display import display, HTML\n",
    "display(HTML(\"<style>.container { width:100% !important; }</style>\"))\n",
    "\n",
    "\n",
    "\n",
    "\n",
    "#First compile our modfiles.\n",
    "if os.system('nrnivmodl modfiles/') == 0:\n",
    "    print(\"Compilation Succeeded.\")\n",
    "else:\n",
    "    print(\"Compilation Failed.\")\n"
   ]
  },
  {
   "cell_type": "code",
   "execution_count": 3,
   "metadata": {},
   "outputs": [],
   "source": [
    "h.load_file('stdrun.hoc')\n",
    "\n",
    "#Define simumulation parameters.\n",
    "SIMRUNTIME = 1500\n",
    "DELAY      = 400\n",
    "INJTIME    = 500\n",
    "I_INJ      = 0.2\n",
    "\n",
    "h.tstop    = SIMRUNTIME\n",
    "h.v_init   = -75\n",
    "\n",
    "#Now set up vectors to record the membrane potential and the time.\n",
    "potential = h.Vector()\n",
    "time      = h.Vector()"
   ]
  },
  {
   "cell_type": "code",
   "execution_count": 6,
   "metadata": {},
   "outputs": [
    {
     "output_type": "execute_result",
     "data": {
      "text/plain": [
       "'\\nrun_tonic_model(default_tonic[0], \\n                default_tonic[1],\\n                default_tonic[2],\\n                default_tonic[3],\\n                default_tonic[4],\\n                default_tonic[5],\\n                default_tonic[6] )\\n'"
      ]
     },
     "metadata": {},
     "execution_count": 6
    }
   ],
   "source": [
    "import numpy as np\n",
    "\n",
    "tonic_soma = h.Section(name = 'tonic_soma')\n",
    "\n",
    "tonic_iclamp = h.IClamp(tonic_soma(0.5))\n",
    "tonic_iclamp.dur   = INJTIME\n",
    "tonic_iclamp.amp   = I_INJ\n",
    "tonic_iclamp.delay = DELAY\n",
    "\n",
    "#We will make a super simple one compartement tonic spiking cell.\n",
    "tonic_soma.nseg = 1\n",
    "tonic_soma.L    = 25\n",
    "tonic_soma.diam = 24.75\n",
    "\n",
    "#Now insert the two segregated modules into the cell.\n",
    "#First insert the passive module.\n",
    "tonic_soma.insert('leakCA3')\n",
    "tonic_soma.insert('hdCA3')\n",
    "\n",
    "#Now insert the spiking module.\n",
    "tonic_soma.insert('natCA3')\n",
    "tonic_soma.insert('kdrCA3')\n",
    "\n",
    "#record time and membrane potential for tonic cell.\n",
    "#Record the membrane variables.\n",
    "time.record(h._ref_t) \n",
    "potential.record(tonic_soma(0.5)._ref_v)\n",
    "\n",
    "#Plot membrane potential of tonic cell.\n",
    "def plot_membrane():\n",
    "    plt.close()\n",
    "    plt.figure(figsize = (20,5))\n",
    "    plt.plot(time, potential)\n",
    "    plt.xlabel('Time')\n",
    "    plt.ylabel('Membrane Potential')\n",
    "    plt.show()\n",
    "\n",
    "def run_tonic_model(amp, gna, gkdr, gh, mseg, nseg, lseg):\n",
    "    tonic_iclamp.amp = amp\n",
    "\n",
    "    tonic_soma.glbar_leakCA3 = 1.53*3e-5\n",
    "    tonic_soma.gbar_natCA3   = gna\n",
    "    tonic_soma.mseg_natCA3   = mseg\n",
    "    tonic_soma.gbar_kdrCA3   = gkdr\n",
    "    tonic_soma.nseg_kdrCA3   = nseg\n",
    "    tonic_soma.ghdbar_hdCA3  = gh\n",
    "    tonic_soma.lseg_hdCA3    = lseg\n",
    "    \n",
    "    h.run()\n",
    "\n",
    "    plot_membrane()\n",
    "\n",
    "    plot_gating(mseg, nseg, lseg)\n",
    "\n",
    "#Plot the gating curves.\n",
    "def plot_gating(mseg, nseg, lseg):\n",
    "    \n",
    "    def m_curve(v):\n",
    "        f = 0\n",
    "        if(v < mseg):\n",
    "            f = 0\n",
    "        else: \n",
    "            f = 1.0/ (1.0 + np.exp( (-v - 35.5) / 7.2))\n",
    "        return f\n",
    "\n",
    "    def l_curve(v):\n",
    "        f = 0\n",
    "        if(v > lseg):\n",
    "            f = 0\n",
    "        else:\n",
    "            f = 1.0/(1.0 + np.exp( (v + 62.4) / 8.0))\n",
    "        return f\n",
    "    \n",
    "    def n_curve(v):\n",
    "        f = 0\n",
    "        if(v < nseg):\n",
    "            f = 0\n",
    "        else: \n",
    "            f = 1.0/(1.0 + np.exp( (0 - v) / 11.0))\n",
    "        return f\n",
    "\n",
    "    voltage_domain = np.arange(-80.0, 40.0, 0.1)\n",
    "\n",
    "    #Now plot all three of the curves.\n",
    "    plt.close()\n",
    "    plt.figure(figsize = (20,5))\n",
    "    plt.plot(voltage_domain, [m_curve(i) for i in voltage_domain], label= 'm_curve')\n",
    "    plt.plot(voltage_domain, [l_curve(i) for i in voltage_domain], label= 'l_curve')\n",
    "    plt.plot(voltage_domain, [n_curve(i) for i in voltage_domain], label= 'n_curve')\n",
    "    plt.xlabel('Voltage')\n",
    "    plt.ylabel('Probability')\n",
    "    plt.legend(loc=\"upper right\")\n",
    "    plt.show()\n",
    "\n",
    "\n",
    "\n",
    "#Set the default parameters for the simulations.\n",
    "\n",
    "default_tonic = [I_INJ, 0.065, 0.065, 1.0e-5, -52.5, -55, -62.4]\n",
    "\n",
    "'''\n",
    "run_tonic_model(default_tonic[0], \n",
    "                default_tonic[1],\n",
    "                default_tonic[2],\n",
    "                default_tonic[3],\n",
    "                default_tonic[4],\n",
    "                default_tonic[5],\n",
    "                default_tonic[6] )\n",
    "'''"
   ]
  },
  {
   "cell_type": "code",
   "execution_count": 7,
   "metadata": {},
   "outputs": [
    {
     "output_type": "display_data",
     "data": {
      "text/plain": "HBox(children=(VBox(children=(Label(value='\\\\( I_{inject}\\\\ (nA) \\\\)'), Label(value='\\\\( g_{NaT}\\\\ (mS/cm^2) \\…",
      "application/vnd.jupyter.widget-view+json": {
       "version_major": 2,
       "version_minor": 0,
       "model_id": "cd463193391b4775bf4cdae76c8df55d"
      }
     },
     "metadata": {}
    },
    {
     "output_type": "display_data",
     "data": {
      "text/plain": "Output()",
      "application/vnd.jupyter.widget-view+json": {
       "version_major": 2,
       "version_minor": 0,
       "model_id": "e66df84cb3c544028f102aa692518adb"
      }
     },
     "metadata": {}
    }
   ],
   "source": [
    "#Create the all in one interactive plot.\n",
    "import ipywidgets as widgets\n",
    "from ipywidgets import HBox,VBox,Label,Layout\n",
    "from IPython.display import display\n",
    "%matplotlib inline\n",
    "\n",
    "#Make a list of all widgets.\n",
    "#Contains: amp slider, g_nat slider, g_kdr slider, g_h slider, m_seg, n_seg, l_seg, .\n",
    "sliders_tonic = []\n",
    "sliders_tonic.append(widgets.FloatSlider(value = default_tonic[0], min = 0.1, max = 1.0, step = 0.1, continuous_update=False, readout_format='.1f'))\n",
    "sliders_tonic.append(widgets.FloatSlider(value = default_tonic[1], min = 0.001, max = 0.36, step = 0.00359, continuous_update=False, readout_format='.1e'))\n",
    "sliders_tonic.append(widgets.FloatSlider(value = default_tonic[2], min = 6.0e-4, max = 0.18, step = 0.001794, continuous_update=False, readout_format='.1e'))\n",
    "sliders_tonic.append(widgets.FloatSlider(value = default_tonic[3], min = 1.0e-5, max = 2.3e-4, step = 2.2e-6, continuous_update=False, readout_format='.1e'))\n",
    "sliders_tonic.append(widgets.FloatSlider(value = default_tonic[4], min =-60, max = -50, step = 0.1, continuous_update=False, readout_format='.1f')) #need to update segregation ranges\n",
    "sliders_tonic.append(widgets.FloatSlider(value = default_tonic[5], min = -60, max = -50, step = 0.1, continuous_update=False, readout_format='.1f'))\n",
    "sliders_tonic.append(widgets.FloatSlider(value = default_tonic[6], min = -70, max = -60, step = 0.1, continuous_update=False, readout_format='.1f'))\n",
    "\n",
    "\n",
    "labels_tonic = []\n",
    "labels_tonic.append(Label(r'\\( I_{inject}\\ (nA) \\)'))\n",
    "labels_tonic.append(Label(r'\\( g_{NaT}\\ (mS/cm^2) \\)'))\n",
    "labels_tonic.append(Label(r'\\( g_{Kdr}\\ (mS/cm^2) \\)'))\n",
    "labels_tonic.append(Label(r'\\( g_{h}\\ (mS/cm^2) \\)'))\n",
    "labels_tonic.append(Label(r'\\( m_{seg}\\ (mV) \\)'))\n",
    "labels_tonic.append(Label(r'\\( n_{seg}\\ (mv) \\)'))\n",
    "labels_tonic.append(Label(r'\\( l_{seg}\\ (mv) \\)'))\n",
    "\n",
    "def reset_model_tonic(*args):\n",
    "    for i in range(7):\n",
    "        sliders_tonic[i].value = default_tonic[i]\n",
    "\n",
    "\n",
    "reset = widgets.Button(description='Reset',icon='history',button_style='primary')\n",
    "reset.on_click(reset_model_tonic)\n",
    "\n",
    "ui = HBox([VBox(labels_tonic[:3]),\n",
    "           VBox(sliders_tonic[:3]),\n",
    "           VBox(labels_tonic[#Now set up vectors to record the membrane potential and the time.\n",
    "potential = h.Vector()\n",
    "time      = h.Vector()3:7]),\n",
    "           VBox(sliders_tonic[3:7]),\n",
    "           reset\n",
    "          ])\n",
    "\n",
    "\n",
    "\n",
    "#def run_tonic_model(amp, gna, gkdr, gh, mseg, nseg, lseg):\n",
    "\n",
    "out = widgets.interactive_output(run_tonic_model, {'amp':sliders_tonic[0],'gna':sliders_tonic[1],'gkdr':sliders_tonic[2],'gh':sliders_tonic[3],'mseg':sliders_tonic[4],'nseg':sliders_tonic[5],'lseg':sliders_tonic[6]})\n",
    "\n",
    "display(ui,out)"
   ]
  },
  {
   "cell_type": "code",
   "execution_count": null,
   "metadata": {},
   "outputs": [],
   "source": []
  }
 ]
}