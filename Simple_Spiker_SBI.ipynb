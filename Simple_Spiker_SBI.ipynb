{
 "metadata": {
  "language_info": {
   "codemirror_mode": {
    "name": "ipython",
    "version": 3
   },
   "file_extension": ".py",
   "mimetype": "text/x-python",
   "name": "python",
   "nbconvert_exporter": "python",
   "pygments_lexer": "ipython3",
   "version": "3.6.7-final"
  },
  "orig_nbformat": 2,
  "kernelspec": {
   "name": "python3",
   "display_name": "Python 3"
  }
 },
 "nbformat": 4,
 "nbformat_minor": 2,
 "cells": [
  {
   "cell_type": "code",
   "execution_count": 1,
   "metadata": {},
   "outputs": [
    {
     "output_type": "display_data",
     "data": {
      "text/plain": "<IPython.core.display.HTML object>",
      "text/html": "<style>.container { width:100% !important; }</style>"
     },
     "metadata": {}
    },
    {
     "output_type": "stream",
     "name": "stdout",
     "text": [
      "Compilation Succeeded.\n"
     ]
    }
   ],
   "source": [
    "from neuron import h\n",
    "import os\n",
    "import matplotlib.pyplot as plt\n",
    "\n",
    "from IPython.core.display import display, HTML\n",
    "display(HTML(\"<style>.container { width:100% !important; }</style>\"))\n",
    "\n",
    "\n",
    "\n",
    "\n",
    "#First compile our modfiles.\n",
    "if os.system('nrnivmodl modfiles/') == 0:\n",
    "    print(\"Compilation Succeeded.\")\n",
    "else:\n",
    "    print(\"Compilation Failed.\")"
   ]
  },
  {
   "cell_type": "code",
   "execution_count": 2,
   "metadata": {},
   "outputs": [],
   "source": [
    "h.load_file('stdrun.hoc')\n",
    "\n",
    "#Define simumulation parameters.\n",
    "SIMRUNTIME = 1500\n",
    "DELAY      = 400\n",
    "INJTIME    = 500\n",
    "I_INJ      = 0.2\n",
    "\n",
    "h.tstop    = SIMRUNTIME\n",
    "h.v_init   = -75\n",
    "\n",
    "#Now set up vectors to record the membrane potential and the time.\n",
    "potential = h.Vector()\n",
    "time      = h.Vector()"
   ]
  },
  {
   "cell_type": "code",
   "execution_count": 5,
   "metadata": {},
   "outputs": [
    {
     "output_type": "stream",
     "name": "stdout",
     "text": [
      "run complete\n"
     ]
    }
   ],
   "source": [
    "import numpy as np\n",
    "\n",
    "tonic_soma = h.Section(name = 'tonic_soma')\n",
    "\n",
    "tonic_iclamp = h.IClamp(tonic_soma(0.5))\n",
    "tonic_iclamp.dur   = INJTIME\n",
    "tonic_iclamp.amp   = I_INJ\n",
    "tonic_iclamp.delay = DELAY\n",
    "\n",
    "#We will make a super simple one compartement tonic spiking cell.\n",
    "tonic_soma.nseg = 1\n",
    "tonic_soma.L    = 25\n",
    "tonic_soma.diam = 24.75\n",
    "\n",
    "#Now insert the two segregated modules into the cell.\n",
    "#First insert the passive module.\n",
    "tonic_soma.insert('leakCA3')\n",
    "tonic_soma.insert('hdCA3')\n",
    "\n",
    "#Now insert the spiking module.\n",
    "tonic_soma.insert('natCA3')\n",
    "tonic_soma.insert('kdrCA3')\n",
    "\n",
    "#record time and membrane potential for tonic cell.\n",
    "#Record the membrane variables.\n",
    "time.record(h._ref_t) \n",
    "potential.record(tonic_soma(0.5)._ref_v)\n",
    "\n",
    "\n",
    "def run_tonic_model(amp, gleak, gna, gkdr, gh, tau_m, tau_h, tau_n, tau_l, vh_m, vh_h, vh_n, vh_l):\n",
    "\n",
    "    tonic_iclamp.amp = amp\n",
    "\n",
    "    tonic_soma.glbar_leakCA3   = gleak #1.53*3e-5\n",
    "    tonic_soma.gbar_natCA3     = gna\n",
    "    tonic_soma.mtfactor_natCA3 = tau_m\n",
    "    tonic_soma.htfactor_natCA3 = tau_h\n",
    "    tonic_soma.vhalfm_natCA3   = vh_m\n",
    "    tonic_soma.vhalfh_natCA3   = vh_h\n",
    "    tonic_soma.gbar_kdrCA3     = gkdr\n",
    "    tonic_soma.ntfactor_kdrCA3 = tau_n\n",
    "    tonic_soma.vhalfn_kdrCA3   = vh_n\n",
    "    tonic_soma.ghdbar_hdCA3    = gh\n",
    "    tonic_soma.ltfactor_hdCA3  = tau_l\n",
    "    tonic_soma.vhalfl_hdCA3    = vh_l\n",
    "    \n",
    "    h.run()\n",
    "\n",
    "#Set the default parameters for the simulations.\n",
    "\n",
    "default_tonic = [I_INJ, 1.53*3e-5, 0.065, 0.065, 1.0e-5, \n",
    "                        1.0      , 1.0  , 1.0  , 1.0   ,\n",
    "                        -35.5    , -40  , 0.0  , -75.0  ]\n",
    "\n",
    "run_tonic_model(default_tonic[0], default_tonic[1], default_tonic[2],  default_tonic[3],  default_tonic[4],\n",
    "                                  default_tonic[5], default_tonic[6],  default_tonic[7],  default_tonic[8],\n",
    "                                  default_tonic[9], default_tonic[10], default_tonic[10], default_tonic[12] )\n"
   ]
  },
  {
   "cell_type": "code",
   "execution_count": null,
   "metadata": {},
   "outputs": [],
   "source": []
  }
 ]
}