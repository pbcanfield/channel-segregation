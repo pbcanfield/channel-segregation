{
 "cells": [
  {
   "cell_type": "code",
   "execution_count": 6,
   "metadata": {},
   "outputs": [
    {
     "data": {
      "text/html": [
       "<style>.container { width:100% !important; }</style>"
      ],
      "text/plain": [
       "<IPython.core.display.HTML object>"
      ]
     },
     "metadata": {},
     "output_type": "display_data"
    },
    {
     "name": "stdout",
     "output_type": "stream",
     "text": [
      "Compilation Succeeded.\n"
     ]
    }
   ],
   "source": [
    "from neuron import h\n",
    "import os\n",
    "import matplotlib.pyplot as plt\n",
    "\n",
    "from IPython.core.display import display, HTML\n",
    "display(HTML(\"<style>.container { width:100% !important; }</style>\"))\n",
    "\n",
    "\n",
    "\n",
    "\n",
    "#First compile our modfiles.\n",
    "if os.system('nrnivmodl modfiles/') == 0:\n",
    "    print(\"Compilation Succeeded.\")\n",
    "else:\n",
    "    print(\"Compilation Failed.\")"
   ]
  },
  {
   "cell_type": "code",
   "execution_count": 7,
   "metadata": {},
   "outputs": [],
   "source": [
    "h.load_file('stdrun.hoc')\n",
    "\n",
    "#Define simumulation parameters.\n",
    "SIMRUNTIME = 1500\n",
    "DELAY      = 400\n",
    "INJTIME    = 500\n",
    "I_INJ      = 0.1\n",
    "\n",
    "h.tstop    = SIMRUNTIME\n",
    "h.v_init   = -75\n",
    "\n",
    "#Now set up vectors to record the membrane potential and the time.\n",
    "potential = h.Vector()\n",
    "time      = h.Vector()"
   ]
  },
  {
   "cell_type": "code",
   "execution_count": 13,
   "metadata": {},
   "outputs": [],
   "source": [
    "import numpy as np\n",
    "\n",
    "tonic_soma = h.Section(name = 'tonic_soma')\n",
    "\n",
    "tonic_iclamp = h.IClamp(tonic_soma(0.5))\n",
    "tonic_iclamp.dur   = INJTIME\n",
    "tonic_iclamp.amp   = I_INJ\n",
    "tonic_iclamp.delay = DELAY\n",
    "\n",
    "#We will make a super simple one compartement tonic spiking cell.\n",
    "tonic_soma.nseg = 1\n",
    "tonic_soma.L    = 25\n",
    "tonic_soma.diam = 24.75\n",
    "\n",
    "#Now insert the two segregated modules into the cell.\n",
    "#First insert the passive module.\n",
    "tonic_soma.insert('leakCA3')\n",
    "tonic_soma.insert('hdCA3')\n",
    "\n",
    "#Now insert the spiking module.\n",
    "tonic_soma.insert('natCA3')\n",
    "tonic_soma.insert('kdrCA3')\n",
    "\n",
    "#record time and membrane potential for tonic cell.\n",
    "#Record the membrane variables.\n",
    "time.record(h._ref_t) \n",
    "potential.record(tonic_soma(0.5)._ref_v)\n",
    "\n",
    "\n",
    "def run_tonic_model(amp, gleak, gna, gkdr, gh, tau_m, tau_h, tau_n, tau_l, vh_m, vh_h, vh_n, vh_l):\n",
    "\n",
    "    tonic_iclamp.amp = amp\n",
    "\n",
    "    tonic_soma.glbar_leakCA3   = gleak #1.53*3e-5\n",
    "    tonic_soma.gbar_natCA3     = gna\n",
    "    tonic_soma.mtfactor_natCA3 = tau_m\n",
    "    tonic_soma.htfactor_natCA3 = tau_h\n",
    "    tonic_soma.vhalfm_natCA3   = vh_m\n",
    "    tonic_soma.vhalfh_natCA3   = vh_h\n",
    "    tonic_soma.gbar_kdrCA3     = gkdr\n",
    "    tonic_soma.ntfactor_kdrCA3 = tau_n\n",
    "    tonic_soma.vhalfn_kdrCA3   = vh_n\n",
    "    tonic_soma.ghdbar_hdCA3    = gh\n",
    "    tonic_soma.ltfactor_hdCA3  = tau_l\n",
    "    tonic_soma.vhalfl_hdCA3    = vh_l\n",
    "    \n",
    "    h.run()\n",
    "\n",
    "#Set the default parameters for the simulations.\n",
    "\n",
    "default_tonic = [I_INJ, 1.53*3e-5, 0.065, 0.065, 1.0e-5, \n",
    "                        1.0      , 1.0  , 1.0  , 1.0   ,\n",
    "                        -35.5    , -40  , 0.0  , -75.0  ]\n",
    "\n",
    "run_tonic_model(default_tonic[0], default_tonic[1], default_tonic[2] ,  default_tonic[3],  default_tonic[4],\n",
    "                                  default_tonic[5], default_tonic[6] ,  default_tonic[7],  default_tonic[8],\n",
    "                                  default_tonic[9], default_tonic[10], default_tonic[11], default_tonic[12] )\n"
   ]
  },
  {
   "cell_type": "code",
   "execution_count": 29,
   "metadata": {},
   "outputs": [
    {
     "data": {
      "application/vnd.jupyter.widget-view+json": {
       "model_id": "94abd189313549f4bd4749d6c47dfbb9",
       "version_major": 2,
       "version_minor": 0
      },
      "text/plain": [
       "HBox(children=(HTML(value='Running 300 simulations.'), FloatProgress(value=0.0, max=300.0), HTML(value='')))"
      ]
     },
     "metadata": {},
     "output_type": "display_data"
    },
    {
     "name": "stderr",
     "output_type": "stream",
     "text": [
      "WARNING:root:Found 292 NaN simulations and 0 Inf simulations. They will be excluded from training.\n"
     ]
    },
    {
     "name": "stdout",
     "output_type": "stream",
     "text": [
      "\n"
     ]
    },
    {
     "name": "stderr",
     "output_type": "stream",
     "text": [
      "/usr/neurotools/conda/envs/py36/lib/python3.6/site-packages/torch/autograd/__init__.py:132: UserWarning: CUDA initialization: Found no NVIDIA driver on your system. Please check that you have an NVIDIA GPU and installed a driver from http://www.nvidia.com/Download/index.aspx (Triggered internally at  /pytorch/c10/cuda/CUDAFunctions.cpp:100.)\n",
      "  allow_unreachable=True)  # allow_unreachable flag\n"
     ]
    },
    {
     "name": "stdout",
     "output_type": "stream",
     "text": [
      "Neural network successfully converged after 435 epochs.\n"
     ]
    },
    {
     "name": "stderr",
     "output_type": "stream",
     "text": [
      "/usr/neurotools/conda/envs/py36/lib/python3.6/site-packages/sbi/utils/plot.py:567: UserWarning: Attempting to set identical left == right == 0.10000000149011612 results in singular transformations; automatically expanding.\n",
      "  ax.set_xlim((limits[col][0], limits[col][1]))\n",
      "/usr/neurotools/conda/envs/py36/lib/python3.6/site-packages/sbi/utils/plot.py:567: UserWarning: Attempting to set identical left == right == 4.5900000259280205e-05 results in singular transformations; automatically expanding.\n",
      "  ax.set_xlim((limits[col][0], limits[col][1]))\n",
      "/usr/neurotools/conda/envs/py36/lib/python3.6/site-packages/sbi/utils/plot.py:567: UserWarning: Attempting to set identical left == right == 9.999999747378752e-06 results in singular transformations; automatically expanding.\n",
      "  ax.set_xlim((limits[col][0], limits[col][1]))\n",
      "/usr/neurotools/conda/envs/py36/lib/python3.6/site-packages/sbi/utils/plot.py:567: UserWarning: Attempting to set identical left == right == 1.0 results in singular transformations; automatically expanding.\n",
      "  ax.set_xlim((limits[col][0], limits[col][1]))\n",
      "/usr/neurotools/conda/envs/py36/lib/python3.6/site-packages/sbi/utils/plot.py:567: UserWarning: Attempting to set identical left == right == -35.5 results in singular transformations; automatically expanding.\n",
      "  ax.set_xlim((limits[col][0], limits[col][1]))\n",
      "/usr/neurotools/conda/envs/py36/lib/python3.6/site-packages/sbi/utils/plot.py:567: UserWarning: Attempting to set identical left == right == -40.0 results in singular transformations; automatically expanding.\n",
      "  ax.set_xlim((limits[col][0], limits[col][1]))\n",
      "/usr/neurotools/conda/envs/py36/lib/python3.6/site-packages/sbi/utils/plot.py:567: UserWarning: Attempting to set identical left == right == 0.0 results in singular transformations; automatically expanding.\n",
      "  ax.set_xlim((limits[col][0], limits[col][1]))\n",
      "/usr/neurotools/conda/envs/py36/lib/python3.6/site-packages/sbi/utils/plot.py:567: UserWarning: Attempting to set identical left == right == -75.0 results in singular transformations; automatically expanding.\n",
      "  ax.set_xlim((limits[col][0], limits[col][1]))\n",
      "/usr/neurotools/conda/envs/py36/lib/python3.6/site-packages/sbi/utils/plot.py:567: UserWarning: Attempting to set identical left == right == 0.0 results in singular transformations; automatically expanding.\n",
      "  ax.set_xlim((limits[col][0], limits[col][1]))\n",
      "/usr/neurotools/conda/envs/py36/lib/python3.6/site-packages/sbi/utils/plot.py:567: UserWarning: Attempting to set identical left == right == 0.0 results in singular transformations; automatically expanding.\n",
      "  ax.set_xlim((limits[col][0], limits[col][1]))\n",
      "/usr/neurotools/conda/envs/py36/lib/python3.6/site-packages/sbi/utils/plot.py:567: UserWarning: Attempting to set identical left == right == 0.0 results in singular transformations; automatically expanding.\n",
      "  ax.set_xlim((limits[col][0], limits[col][1]))\n",
      "/usr/neurotools/conda/envs/py36/lib/python3.6/site-packages/sbi/utils/plot.py:567: UserWarning: Attempting to set identical left == right == 0.0 results in singular transformations; automatically expanding.\n",
      "  ax.set_xlim((limits[col][0], limits[col][1]))\n",
      "/usr/neurotools/conda/envs/py36/lib/python3.6/site-packages/sbi/utils/plot.py:567: UserWarning: Attempting to set identical left == right == 0.0 results in singular transformations; automatically expanding.\n",
      "  ax.set_xlim((limits[col][0], limits[col][1]))\n",
      "/usr/neurotools/conda/envs/py36/lib/python3.6/site-packages/sbi/utils/plot.py:567: UserWarning: Attempting to set identical left == right == 0.0 results in singular transformations; automatically expanding.\n",
      "  ax.set_xlim((limits[col][0], limits[col][1]))\n",
      "/usr/neurotools/conda/envs/py36/lib/python3.6/site-packages/sbi/utils/plot.py:567: UserWarning: Attempting to set identical left == right == 0.0 results in singular transformations; automatically expanding.\n",
      "  ax.set_xlim((limits[col][0], limits[col][1]))\n",
      "/usr/neurotools/conda/envs/py36/lib/python3.6/site-packages/sbi/utils/plot.py:567: UserWarning: Attempting to set identical left == right == 0.0 results in singular transformations; automatically expanding.\n",
      "  ax.set_xlim((limits[col][0], limits[col][1]))\n",
      "/usr/neurotools/conda/envs/py36/lib/python3.6/site-packages/sbi/utils/plot.py:567: UserWarning: Attempting to set identical left == right == 0.0 results in singular transformations; automatically expanding.\n",
      "  ax.set_xlim((limits[col][0], limits[col][1]))\n",
      "/usr/neurotools/conda/envs/py36/lib/python3.6/site-packages/sbi/utils/plot.py:567: UserWarning: Attempting to set identical left == right == 0.0 results in singular transformations; automatically expanding.\n",
      "  ax.set_xlim((limits[col][0], limits[col][1]))\n",
      "/usr/neurotools/conda/envs/py36/lib/python3.6/site-packages/sbi/utils/plot.py:569: UserWarning: Attempting to set identical bottom == top == 0.0 results in singular transformations; automatically expanding.\n",
      "  ax.set_ylim((limits[row][0], limits[row][1]))\n"
     ]
    }
   ],
   "source": [
    "#Now lets implement the SBI side of things.\n",
    "import sbi.utils as utils\n",
    "from sbi.inference.base import infer\n",
    "import torch\n",
    "from scipy.signal import find_peaks\n",
    "\n",
    "#Given the votage trace provided in the potential vector we can calculate the summary statistics of the spiker.\n",
    "#The statistics for this model will be spike number, resting potential, average spike height, and average spike width.\n",
    "def calculate_summary_statistics():\n",
    "    trace = potential.as_numpy()\n",
    "\n",
    "    zero_crossings = np.where(np.diff(np.sign(trace)))[0] #Detect when the voltage trace crosses 0.\n",
    "    \n",
    "    spike_width = 0\n",
    "    for i in range(0,len(zero_crossings), 2):\n",
    "        spike_width += zero_crossings[i + 1] - zero_crossings[i]\n",
    "    \n",
    "    spike_num = (len(zero_crossings) / 2)\n",
    "    \n",
    "    if spike_num != 0:\n",
    "        spike_width /= spike_num\n",
    "    \n",
    "    resting = trace[-1]\n",
    "    \n",
    "    peaks, _ =  find_peaks(trace,0)\n",
    "    \n",
    "    #Calculate average height.\n",
    "    average_spike_height = np.mean(_['peak_heights'])\n",
    "    \n",
    "    return [spike_num, resting, average_spike_height, spike_width]\n",
    "\n",
    "#Now define the simulation wrapper.\n",
    "def simulation_wrapper(params):\n",
    "    run_tonic_model(params[0], params[1], params[2] ,  params[3],  params[4],\n",
    "                               params[5], params[6] ,  params[7],  params[8],\n",
    "                               params[9], params[10], params[11], params[12] )\n",
    "    sum_stats = torch.as_tensor(calculate_summary_statistics(), dtype=torch.float)\n",
    "    \n",
    "    return sum_stats\n",
    "\n",
    "#Now define min and max parameter values.\n",
    "min_values = [0.1, 1.53*3e-5, 0.05, 0.05, 1.0e-5, \n",
    "            1.0      , 1.0  , 1.0  , 1.0   ,\n",
    "            -35.5    , -40  , 0.0  , -75.0  ]\n",
    "\n",
    "max_values = [0.1, 1.53*3e-5, 0.07, 0.07, 1.0e-5, \n",
    "            1.0      , 1.0  , 1.0  , 1.0   ,\n",
    "            -35.5    , -40  , 0.0  , -75.0  ]\n",
    "\n",
    "#Set up ranges for inference.\n",
    "prior = utils.torchutils.BoxUniform(low  = torch.as_tensor(min_values),\n",
    "                                    high = torch.as_tensor(max_values))\n",
    "\n",
    "#Run the inference simulator.\n",
    "#THERE IS A PROBLEM WITH PICKLE HERE, NUM_WORKERS NEEDS TO BE 1\n",
    "#Check: https://www.mackelab.org/sbi/faq/question_03/\n",
    "#for solution\n",
    "posterior = infer(simulation_wrapper, prior, method='SNPE', \n",
    "                  num_simulations=300, num_workers=1)\n"
   ]
  },
  {
   "cell_type": "code",
   "execution_count": null,
   "metadata": {},
   "outputs": [],
   "source": []
  }
 ],
 "metadata": {
  "kernelspec": {
   "display_name": "Python 3",
   "language": "python",
   "name": "python3"
  },
  "language_info": {
   "codemirror_mode": {
    "name": "ipython",
    "version": 3
   },
   "file_extension": ".py",
   "mimetype": "text/x-python",
   "name": "python",
   "nbconvert_exporter": "python",
   "pygments_lexer": "ipython3",
   "version": "3.6.10"
  }
 },
 "nbformat": 4,
 "nbformat_minor": 2
}
